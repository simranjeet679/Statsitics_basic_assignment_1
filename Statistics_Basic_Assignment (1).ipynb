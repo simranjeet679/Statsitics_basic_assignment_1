{
  "nbformat": 4,
  "nbformat_minor": 0,
  "metadata": {
    "colab": {
      "provenance": []
    },
    "kernelspec": {
      "name": "python3",
      "display_name": "Python 3"
    },
    "language_info": {
      "name": "python"
    }
  },
  "cells": [
    {
      "cell_type": "markdown",
      "source": [
        "#**Statistics Basic Assignment**\n",
        "##**Theory Question - Answer**"
      ],
      "metadata": {
        "id": "jC8D9K8MG19l"
      }
    },
    {
      "cell_type": "markdown",
      "source": [
        "### Q1: What is statistics, and why is it important?\n",
        "\n",
        "Statistics is the science of collecting, analyzing, interpreting, and presenting data. It is crucial because it helps us make informed decisions by providing a way to understand and interpret complex datasets.\n",
        "\n",
        "### Q2: What are the two main types of statistics?\n",
        "\n",
        "The two main types of statistics are descriptive statistics and inferential statistics.\n",
        "\n",
        "### Q3: What are descriptive statistics?\n",
        "\n",
        "Descriptive statistics summarize and organize data so it can be easily understood. Examples include measures of central tendency like mean, median, and mode, and measures of variability such as range and standard deviation.\n",
        "\n",
        "### Q4: What is inferential statistics?\n",
        "\n",
        "Inferential statistics involve making predictions or inferences about a population based on a sample of data. It's used to test hypotheses and determine relationships between variables.\n",
        "\n",
        "### Q5: What is sampling in statistics?\n",
        "\n",
        "Sampling is the process of selecting a subset of individuals from a population to estimate characteristics of the whole population.\n",
        "\n",
        "### Q6: What are the different types of sampling methods?\n",
        "\n",
        "Common sampling methods include simple random sampling, stratified sampling, cluster sampling, and systematic sampling.\n",
        "\n",
        "### Q7: What is the difference between random and non-random sampling?\n",
        "\n",
        "Random sampling ensures every individual has an equal chance of being selected, minimizing bias. Non-random sampling, such as convenience sampling, does not provide every individual an equal chance, which can introduce bias.\n",
        "\n",
        "### Q8: Define and give examples of qualitative and quantitative data.\n",
        "\n",
        "Qualitative data describes categories or qualities (e.g., colors, brands). Quantitative data is numerical and can be measured (e.g., height, weight).\n",
        "\n",
        "### Q9: What are the different types of data in statistics?\n",
        "\n",
        "Types of data include nominal, ordinal, interval, and ratio data.\n",
        "\n",
        "### Q10: Explain nominal, ordinal, interval, and ratio levels of measurement.\n",
        "\n",
        "Nominal: Categorical data without a natural order.  \n",
        "Ordinal: Categorical data with a natural order.  \n",
        "Interval: Numerical data without a true zero (e.g., temperature).  \n",
        "Ratio: Numerical data with a true zero (e.g., height).\n",
        "\n",
        "### Q11: What is the measure of central tendency?\n",
        "\n",
        "The measure of central tendency is a single value that describes the center of a data set. It includes mean, median, and mode.\n",
        "\n",
        "### Q12: Define mean, median, and mode.\n",
        "\n",
        "Mean is the average of a data set.  \n",
        "Median is the middle value when data is ordered.  \n",
        "Mode is the most frequently occurring value.\n",
        "\n",
        "### Q13: What is the significance of the measure of central tendency?\n",
        "\n",
        "It provides a summary statistic that represents a typical value in a dataset, helping in comparative analysis.\n",
        "\n",
        "### Q14: What is variance, and how is it calculated?\n",
        "\n",
        "Variance measures how much values in a data set differ from the mean. It's calculated as the average of the squared differences between each data point and the mean.\n",
        "\n",
        "### Q15: What is standard deviation, and why is it important?\n",
        "\n",
        "Standard deviation is the square root of the variance, indicating how spread out the data is. It is important for understanding variability and comparing different datasets.\n",
        "\n",
        "### Q16: Define and explain the term range in statistics.\n",
        "\n",
        "The range is the difference between the highest and lowest values in a dataset. It gives an overview of the data’s spread.\n",
        "\n",
        "### Q17: What is the difference between variance and standard deviation?\n",
        "\n",
        "Variance is the average squared deviation from the mean, while standard deviation is the square root of the variance. Both measure data spread, but standard deviation is in the same units as the data.\n",
        "\n",
        "### Q18: What is skewness in a dataset?\n",
        "\n",
        "Skewness indicates asymmetry in the distribution of data. It shows whether data is skewed to the left or right.\n",
        "\n",
        "### Q19: What does it mean if a dataset is positively or negatively skewed?\n",
        "\n",
        "A positively skewed dataset has a longer right tail. A negatively skewed dataset has a longer left tail.\n",
        "\n",
        "### Q20: Define and explain kurtosis.\n",
        "\n",
        "Kurtosis measures the \"tailedness\" of a distribution. High kurtosis indicates heavy tails, while low kurtosis indicates light tails.\n",
        "\n",
        "### Q21: What is the purpose of covariance?\n",
        "\n",
        "Covariance measures the direction of the linear relationship between two variables. It shows whether an increase in one variable will result in an increase or decrease in another.\n",
        "\n",
        "### Q22: What does correlation measure in statistics?\n",
        "\n",
        "Correlation measures the strength and direction of a linear relationship between two variables, ranging from -1 to 1.\n",
        "\n",
        "### Q23: What is the difference between covariance and correlation?\n",
        "\n",
        "Covariance shows the direction of a relationship, while correlation indicates both the strength and direction, standardized between -1 and 1.\n",
        "\n",
        "### Q24: What are some real-world applications of statistics?\n",
        "\n",
        "Statistics are used in various fields including market research, quality control, business forecasting, medicine, and social sciences, facilitating data-driven decisions."
      ],
      "metadata": {
        "id": "sBmRjmf3Gpby"
      }
    },
    {
      "cell_type": "markdown",
      "source": [
        "##**Practical Question - Answer**"
      ],
      "metadata": {
        "id": "XZpeNK4LHGOn"
      }
    },
    {
      "cell_type": "markdown",
      "source": [
        "  ### Q1: How do you calculate the mean, median, and mode of a dataset?"
      ],
      "metadata": {
        "id": "ACEvSFjXHpkB"
      }
    },
    {
      "cell_type": "code",
      "source": [
        "import numpy as np\n",
        "from scipy import stats\n",
        "\n",
        "data = [10, 20, 20, 30, 40]\n",
        "mean = np.mean(data)\n",
        "median = np.median(data)\n",
        "mode = stats.mode(data)\n",
        "\n",
        "print(mean, median, mode.mode)"
      ],
      "metadata": {
        "colab": {
          "base_uri": "https://localhost:8080/"
        },
        "id": "T6spdlEEHpBe",
        "outputId": "4585ff3b-a698-4eab-b8ca-49abf9312b66"
      },
      "execution_count": 14,
      "outputs": [
        {
          "output_type": "stream",
          "name": "stdout",
          "text": [
            "24.0 20.0 20\n"
          ]
        }
      ]
    },
    {
      "cell_type": "markdown",
      "source": [
        "###Q2: Write a Python program to compute the variance and standard deviation of a dataset."
      ],
      "metadata": {
        "id": "ZQdlTXXAI3zz"
      }
    },
    {
      "cell_type": "code",
      "source": [
        "data = [10, 20, 20, 30, 40]\n",
        "variance = np.var(data)\n",
        "std_deviation = np.std(data)\n",
        "\n",
        "variance, std_deviation"
      ],
      "metadata": {
        "colab": {
          "base_uri": "https://localhost:8080/"
        },
        "id": "n-Zs2j4KI3Sb",
        "outputId": "276f88e8-6656-4439-b7b7-4a91a8f2fc6e"
      },
      "execution_count": 17,
      "outputs": [
        {
          "output_type": "execute_result",
          "data": {
            "text/plain": [
              "(np.float64(104.0), np.float64(10.198039027185569))"
            ]
          },
          "metadata": {},
          "execution_count": 17
        }
      ]
    },
    {
      "cell_type": "markdown",
      "source": [
        "###Q3: Create a dataset and classify it into nominal, ordinal, interval, and ratio types."
      ],
      "metadata": {
        "id": "hF_omIs9Ky7j"
      }
    },
    {
      "cell_type": "code",
      "source": [
        "dataset = {\n",
        "    \"Nominal\": [\"Red\", \"Blue\", \"Green\"],\n",
        "    \"Ordinal\": [\"Small\", \"Medium\", \"Large\"],\n",
        "    \"Interval\": [-10, 0, 10],\n",
        "    \"Ratio\": [5, 10, 15]\n",
        "}\n",
        "dataset"
      ],
      "metadata": {
        "colab": {
          "base_uri": "https://localhost:8080/"
        },
        "id": "1RkyhgwyKyvM",
        "outputId": "5d11984e-6e64-4f90-d618-37f9d2a71f87"
      },
      "execution_count": 18,
      "outputs": [
        {
          "output_type": "execute_result",
          "data": {
            "text/plain": [
              "{'Nominal': ['Red', 'Blue', 'Green'],\n",
              " 'Ordinal': ['Small', 'Medium', 'Large'],\n",
              " 'Interval': [-10, 0, 10],\n",
              " 'Ratio': [5, 10, 15]}"
            ]
          },
          "metadata": {},
          "execution_count": 18
        }
      ]
    },
    {
      "cell_type": "markdown",
      "source": [
        "###Q4: Implement sampling techniques like random sampling and stratified sampling."
      ],
      "metadata": {
        "id": "5gEuyZztKyi_"
      }
    },
    {
      "cell_type": "code",
      "source": [
        "from sklearn.model_selection import train_test_split\n",
        "\n",
        "data = range(1, 101)\n",
        "random_sample = np.random.choice(data, 10, replace=False)\n",
        "\n",
        "# For stratified sampling, assuming some stratification variable\n",
        "labels = ['A', 'B']\n",
        "stratified_sample, _ = train_test_split(data, test_size=0.9, stratify=[labels[i%2] for i in data])\n",
        "\n",
        "random_sample, stratified_sample"
      ],
      "metadata": {
        "colab": {
          "base_uri": "https://localhost:8080/"
        },
        "id": "JtrocVyOKyW6",
        "outputId": "5af80815-1a72-40d0-d619-06aa7dc81bed"
      },
      "execution_count": 19,
      "outputs": [
        {
          "output_type": "execute_result",
          "data": {
            "text/plain": [
              "(array([ 29,  43,  65,  25,   1, 100,  62,  33,  90,  13]),\n",
              " [86, 62, 85, 3, 92, 65, 27, 35, 26, 6])"
            ]
          },
          "metadata": {},
          "execution_count": 19
        }
      ]
    },
    {
      "cell_type": "markdown",
      "source": [
        "###Q5: Write a Python function to calculate the range of a dataset."
      ],
      "metadata": {
        "id": "8VRrliwUKyLJ"
      }
    },
    {
      "cell_type": "code",
      "source": [
        "def calculate_range(data):\n",
        "    return np.max(data) - np.min(data)\n",
        "\n",
        "range_value = calculate_range(data)\n",
        "range_value"
      ],
      "metadata": {
        "colab": {
          "base_uri": "https://localhost:8080/"
        },
        "id": "JOkK6qSsKx-k",
        "outputId": "e80d5bd6-70c3-4b92-b9ae-a7d735bba22e"
      },
      "execution_count": 20,
      "outputs": [
        {
          "output_type": "execute_result",
          "data": {
            "text/plain": [
              "np.int64(99)"
            ]
          },
          "metadata": {},
          "execution_count": 20
        }
      ]
    },
    {
      "cell_type": "markdown",
      "source": [
        "###Q6: Create a dataset and plot its histogram to visualize skewness."
      ],
      "metadata": {
        "id": "CVKoeZq-Kxxc"
      }
    },
    {
      "cell_type": "code",
      "source": [
        "import matplotlib.pyplot as plt\n",
        "\n",
        "data = np.random.normal(0, 1, 1000)  # Normally distributed\n",
        "plt.hist(data, bins=30)\n",
        "plt.title('Histogram of Data')\n",
        "plt.show()"
      ],
      "metadata": {
        "colab": {
          "base_uri": "https://localhost:8080/",
          "height": 452
        },
        "id": "LaN16QpwKxfN",
        "outputId": "f1742f3e-8588-4592-a384-3be7eb5b76ae"
      },
      "execution_count": 21,
      "outputs": [
        {
          "output_type": "display_data",
          "data": {
            "text/plain": [
              "<Figure size 640x480 with 1 Axes>"
            ],
            "image/png": "[encoded data removed]"
          },
          "metadata": {}
        }
      ]
    },
    {
      "cell_type": "markdown",
      "source": [
        "###Q7: Calculate skewness and kurtosis of a dataset using Python libraries."
      ],
      "metadata": {
        "id": "tID611wkKxQq"
      }
    },
    {
      "cell_type": "code",
      "source": [
        "from scipy.stats import skew, kurtosis\n",
        "\n",
        "skewness = skew(data)\n",
        "kurt = kurtosis(data)\n",
        "\n",
        "skewness, kurt"
      ],
      "metadata": {
        "colab": {
          "base_uri": "https://localhost:8080/"
        },
        "id": "l0A1_tmOKwyb",
        "outputId": "70caa6c9-0993-4869-e9f0-b85642f97e14"
      },
      "execution_count": 22,
      "outputs": [
        {
          "output_type": "execute_result",
          "data": {
            "text/plain": [
              "(np.float64(0.013402234476371387), np.float64(-0.20659418831277554))"
            ]
          },
          "metadata": {},
          "execution_count": 22
        }
      ]
    },
    {
      "cell_type": "markdown",
      "source": [
        "###Q8: Generate a dataset and demonstrate positive and negative skewness."
      ],
      "metadata": {
        "id": "l_3ZtiKmKwkn"
      }
    },
    {
      "cell_type": "code",
      "source": [
        "positive_skewed_data = np.random.exponential(scale=2, size=1000)\n",
        "negative_skewed_data = 1 / (np.random.exponential(scale=1, size=1000) + 1)\n",
        "\n",
        "plt.hist(positive_skewed_data, bins=30)\n",
        "plt.title('Positive Skewness')\n",
        "plt.show()\n",
        "\n",
        "plt.hist(negative_skewed_data, bins=30)\n",
        "plt.title('Negative Skewness')\n",
        "plt.show()"
      ],
      "metadata": {
        "colab": {
          "base_uri": "https://localhost:8080/",
          "height": 887
        },
        "id": "_SvxreTnKwYb",
        "outputId": "befdf859-419e-4094-b727-d8ca7a031b43"
      },
      "execution_count": 23,
      "outputs": [
        {
          "output_type": "display_data",
          "data": {
            "text/plain": [
              "<Figure size 640x480 with 1 Axes>"
            ],
            "image/png": "[encoded data removed]"
          },
          "metadata": {}
        },
        {
          "output_type": "display_data",
          "data": {
            "text/plain": [
              "<Figure size 640x480 with 1 Axes>"
            ],
            "image/png": "[encoded data removed]"
          },
          "metadata": {}
        }
      ]
    },
    {
      "cell_type": "markdown",
      "source": [
        "###Q9: Write a Python script to calculate covariance between two datasets."
      ],
      "metadata": {
        "id": "p657vi6rKwKT"
      }
    },
    {
      "cell_type": "code",
      "source": [
        "x = [10, 20, 30]\n",
        "y = [12, 24, 36]\n",
        "covariance = np.cov(x, y)[0][1]\n",
        "covariance"
      ],
      "metadata": {
        "colab": {
          "base_uri": "https://localhost:8080/"
        },
        "id": "1XqdPxVwKv8K",
        "outputId": "9b7a540b-7249-4ef1-9bee-755abb716492"
      },
      "execution_count": 24,
      "outputs": [
        {
          "output_type": "execute_result",
          "data": {
            "text/plain": [
              "np.float64(120.0)"
            ]
          },
          "metadata": {},
          "execution_count": 24
        }
      ]
    },
    {
      "cell_type": "markdown",
      "source": [
        "###Q10: Write a Python script to calculate the correlation coefficient between two datasets."
      ],
      "metadata": {
        "id": "g-LEI0UGKvv5"
      }
    },
    {
      "cell_type": "code",
      "source": [
        "correlation = np.corrcoef(x, y)[0][1]\n",
        "correlation"
      ],
      "metadata": {
        "colab": {
          "base_uri": "https://localhost:8080/"
        },
        "id": "xhyXwA24Kvkg",
        "outputId": "a73bd321-191a-4347-f5ff-86a1e3397232"
      },
      "execution_count": 25,
      "outputs": [
        {
          "output_type": "execute_result",
          "data": {
            "text/plain": [
              "np.float64(1.0)"
            ]
          },
          "metadata": {},
          "execution_count": 25
        }
      ]
    },
    {
      "cell_type": "markdown",
      "source": [
        "###Q11: Create a scatter plot to visualize the relationship between two variables"
      ],
      "metadata": {
        "id": "nKqAenmZKvY4"
      }
    },
    {
      "cell_type": "code",
      "source": [
        "plt.scatter(x, y)\n",
        "plt.title('Scatter Plot')\n",
        "plt.xlabel('X')\n",
        "plt.ylabel('Y')\n",
        "plt.show()"
      ],
      "metadata": {
        "colab": {
          "base_uri": "https://localhost:8080/",
          "height": 472
        },
        "id": "n0OOdmGlKvN3",
        "outputId": "276e4d99-f66d-47e1-a719-b5a697e15cea"
      },
      "execution_count": 26,
      "outputs": [
        {
          "output_type": "display_data",
          "data": {
            "text/plain": [
              "<Figure size 640x480 with 1 Axes>"
            ],
            "image/png": "[encoded data removed]"
          },
          "metadata": {}
        }
      ]
    },
    {
      "cell_type": "markdown",
      "source": [
        "###Q12: Implement and compare simple random sampling and systematic sampling."
      ],
      "metadata": {
        "id": "PkHvoxH6KvBu"
      }
    },
    {
      "cell_type": "code",
      "source": [
        "simple_random = np.random.choice(data, 10, replace=False)\n",
        "\n",
        "# Systematic sampling\n",
        "interval = len(data) // 10\n",
        "systematic_sample = [data[i] for i in range(0, len(data), interval)]\n",
        "\n",
        "simple_random, systematic_sample"
      ],
      "metadata": {
        "colab": {
          "base_uri": "https://localhost:8080/"
        },
        "id": "cSg4KWdUKu2w",
        "outputId": "8e6e6b8c-d541-47fc-eb53-4a160b8c64c0"
      },
      "execution_count": 27,
      "outputs": [
        {
          "output_type": "execute_result",
          "data": {
            "text/plain": [
              "(array([ 0.06613889, -1.41422209, -0.32361039, -2.36878876, -1.61109942,\n",
              "         0.14644374, -1.83218608,  0.51964281,  1.90687674,  0.39560094]),\n",
              " [np.float64(1.6438365633031353),\n",
              "  np.float64(1.3758169950675943),\n",
              "  np.float64(0.9222581347281916),\n",
              "  np.float64(0.7426809756484045),\n",
              "  np.float64(1.294693637649954),\n",
              "  np.float64(1.6226228101783045),\n",
              "  np.float64(-0.5565267294879629),\n",
              "  np.float64(-1.3246744941184307),\n",
              "  np.float64(0.15294039081400237),\n",
              "  np.float64(0.2303929667027531)])"
            ]
          },
          "metadata": {},
          "execution_count": 27
        }
      ]
    },
    {
      "cell_type": "markdown",
      "source": [
        "###Q13: Calculate the mean, median, and mode of grouped data."
      ],
      "metadata": {
        "id": "4kYtVnNYKurH"
      }
    },
    {
      "cell_type": "code",
      "source": [
        "grouped_data = [5, 10, 10, 15, 20]\n",
        "mean = np.mean(grouped_data)\n",
        "median = np.median(grouped_data)\n",
        "mode = stats.mode(grouped_data)\n",
        "\n",
        "mean, median, mode.mode"
      ],
      "metadata": {
        "colab": {
          "base_uri": "https://localhost:8080/"
        },
        "id": "kWuDaue7KugQ",
        "outputId": "863132ee-e5fe-41ba-dfae-b12f3d04800f"
      },
      "execution_count": 29,
      "outputs": [
        {
          "output_type": "execute_result",
          "data": {
            "text/plain": [
              "(np.float64(12.0), np.float64(10.0), np.int64(10))"
            ]
          },
          "metadata": {},
          "execution_count": 29
        }
      ]
    },
    {
      "cell_type": "markdown",
      "source": [
        "###Q14: Simulate data using Python and calculate its central tendency and dispersion."
      ],
      "metadata": {
        "id": "_F2RHXttKuOf"
      }
    },
    {
      "cell_type": "code",
      "source": [
        "sim_data = np.random.normal(0, 1, 1000)\n",
        "mean = np.mean(sim_data)\n",
        "median = np.median(sim_data)\n",
        "std_dev = np.std(sim_data)\n",
        "\n",
        "mean, median, std_dev"
      ],
      "metadata": {
        "colab": {
          "base_uri": "https://localhost:8080/"
        },
        "id": "RrGlF_7BKuEP",
        "outputId": "54d72714-403f-463f-bfa2-04e411e829d0"
      },
      "execution_count": 30,
      "outputs": [
        {
          "output_type": "execute_result",
          "data": {
            "text/plain": [
              "(np.float64(0.0357591790403206),\n",
              " np.float64(0.031231315491138084),\n",
              " np.float64(0.990017396490623))"
            ]
          },
          "metadata": {},
          "execution_count": 30
        }
      ]
    },
    {
      "cell_type": "markdown",
      "source": [
        "###Q15: Use NumPy or pandas to summarize a dataset’s descriptive statistics."
      ],
      "metadata": {
        "id": "DaZUk0UuKt4b"
      }
    },
    {
      "cell_type": "code",
      "source": [
        "import pandas as pd\n",
        "\n",
        "df = pd.DataFrame(sim_data, columns=['Values'])\n",
        "summary = df.describe()\n",
        "\n",
        "summary"
      ],
      "metadata": {
        "colab": {
          "base_uri": "https://localhost:8080/",
          "height": 300
        },
        "id": "LciQkESuKttu",
        "outputId": "102e59f2-82bb-4403-e32d-aa87b1c89fb7"
      },
      "execution_count": 31,
      "outputs": [
        {
          "output_type": "execute_result",
          "data": {
            "text/plain": [
              "            Values\n",
              "count  1000.000000\n",
              "mean      0.035759\n",
              "std       0.990513\n",
              "min      -3.379257\n",
              "25%      -0.647940\n",
              "50%       0.031231\n",
              "75%       0.710257\n",
              "max       3.588974"
            ],
            "text/html": [
              "\n",
              "  <div id=\"df-814b378b-ba29-4bed-9d7c-3c926dec52ba\" class=\"colab-df-container\">\n",
              "    <div>\n",
              "<style scoped>\n",
              "    .dataframe tbody tr th:only-of-type {\n",
              "        vertical-align: middle;\n",
              "    }\n",
              "\n",
              "    .dataframe tbody tr th {\n",
              "        vertical-align: top;\n",
              "    }\n",
              "\n",
              "    .dataframe thead th {\n",
              "        text-align: right;\n",
              "    }\n",
              "</style>\n",
              "<table border=\"1\" class=\"dataframe\">\n",
              "  <thead>\n",
              "    <tr style=\"text-align: right;\">\n",
              "      <th></th>\n",
              "      <th>Values</th>\n",
              "    </tr>\n",
              "  </thead>\n",
              "  <tbody>\n",
              "    <tr>\n",
              "      <th>count</th>\n",
              "      <td>1000.000000</td>\n",
              "    </tr>\n",
              "    <tr>\n",
              "      <th>mean</th>\n",
              "      <td>0.035759</td>\n",
              "    </tr>\n",
              "    <tr>\n",
              "      <th>std</th>\n",
              "      <td>0.990513</td>\n",
              "    </tr>\n",
              "    <tr>\n",
              "      <th>min</th>\n",
              "      <td>-3.379257</td>\n",
              "    </tr>\n",
              "    <tr>\n",
              "      <th>25%</th>\n",
              "      <td>-0.647940</td>\n",
              "    </tr>\n",
              "    <tr>\n",
              "      <th>50%</th>\n",
              "      <td>0.031231</td>\n",
              "    </tr>\n",
              "    <tr>\n",
              "      <th>75%</th>\n",
              "      <td>0.710257</td>\n",
              "    </tr>\n",
              "    <tr>\n",
              "      <th>max</th>\n",
              "      <td>3.588974</td>\n",
              "    </tr>\n",
              "  </tbody>\n",
              "</table>\n",
              "</div>\n",
              "    <div class=\"colab-df-buttons\">\n",
              "\n",
              "  <div class=\"colab-df-container\">\n",
              "    <button class=\"colab-df-convert\" onclick=\"convertToInteractive('df-814b378b-ba29-4bed-9d7c-3c926dec52ba')\"\n",
              "            title=\"Convert this dataframe to an interactive table.\"\n",
              "            style=\"display:none;\">\n",
              "\n",
              "  <svg xmlns=\"http://www.w3.org/2000/svg\" height=\"24px\" viewBox=\"0 -960 960 960\">\n",
              "    <path d=\"M120-120v-720h720v720H120Zm60-500h600v-160H180v160Zm220 220h160v-160H400v160Zm0 220h160v-160H400v160ZM180-400h160v-160H180v160Zm440 0h160v-160H620v160ZM180-180h160v-160H180v160Zm440 0h160v-160H620v160Z\"/>\n",
              "  </svg>\n",
              "    </button>\n",
              "\n",
              "  <style>\n",
              "    .colab-df-container {\n",
              "      display:flex;\n",
              "      gap: 12px;\n",
              "    }\n",
              "\n",
              "    .colab-df-convert {\n",
              "      background-color: #E8F0FE;\n",
              "      border: none;\n",
              "      border-radius: 50%;\n",
              "      cursor: pointer;\n",
              "      display: none;\n",
              "      fill: #1967D2;\n",
              "      height: 32px;\n",
              "      padding: 0 0 0 0;\n",
              "      width: 32px;\n",
              "    }\n",
              "\n",
              "    .colab-df-convert:hover {\n",
              "      background-color: #E2EBFA;\n",
              "      box-shadow: 0px 1px 2px rgba(60, 64, 67, 0.3), 0px 1px 3px 1px rgba(60, 64, 67, 0.15);\n",
              "      fill: #174EA6;\n",
              "    }\n",
              "\n",
              "    .colab-df-buttons div {\n",
              "      margin-bottom: 4px;\n",
              "    }\n",
              "\n",
              "    [theme=dark] .colab-df-convert {\n",
              "      background-color: #3B4455;\n",
              "      fill: #D2E3FC;\n",
              "    }\n",
              "\n",
              "    [theme=dark] .colab-df-convert:hover {\n",
              "      background-color: #434B5C;\n",
              "      box-shadow: 0px 1px 3px 1px rgba(0, 0, 0, 0.15);\n",
              "      filter: drop-shadow(0px 1px 2px rgba(0, 0, 0, 0.3));\n",
              "      fill: #FFFFFF;\n",
              "    }\n",
              "  </style>\n",
              "\n",
              "    <script>\n",
              "      const buttonEl =\n",
              "        document.querySelector('#df-814b378b-ba29-4bed-9d7c-3c926dec52ba button.colab-df-convert');\n",
              "      buttonEl.style.display =\n",
              "        google.colab.kernel.accessAllowed ? 'block' : 'none';\n",
              "\n",
              "      async function convertToInteractive(key) {\n",
              "        const element = document.querySelector('#df-814b378b-ba29-4bed-9d7c-3c926dec52ba');\n",
              "        const dataTable =\n",
              "          await google.colab.kernel.invokeFunction('convertToInteractive',\n",
              "                                                    [key], {});\n",
              "        if (!dataTable) return;\n",
              "\n",
              "        const docLinkHtml = 'Like what you see? Visit the ' +\n",
              "          '<a target=\"_blank\" href=https://colab.research.google.com/notebooks/data_table.ipynb>data table notebook</a>'\n",
              "          + ' to learn more about interactive tables.';\n",
              "        element.innerHTML = '';\n",
              "        dataTable['output_type'] = 'display_data';\n",
              "        await google.colab.output.renderOutput(dataTable, element);\n",
              "        const docLink = document.createElement('div');\n",
              "        docLink.innerHTML = docLinkHtml;\n",
              "        element.appendChild(docLink);\n",
              "      }\n",
              "    </script>\n",
              "  </div>\n",
              "\n",
              "\n",
              "    <div id=\"df-77a0b2c7-e7bf-46a6-968b-d22b5809f3a8\">\n",
              "      <button class=\"colab-df-quickchart\" onclick=\"quickchart('df-77a0b2c7-e7bf-46a6-968b-d22b5809f3a8')\"\n",
              "                title=\"Suggest charts\"\n",
              "                style=\"display:none;\">\n",
              "\n",
              "<svg xmlns=\"http://www.w3.org/2000/svg\" height=\"24px\"viewBox=\"0 0 24 24\"\n",
              "     width=\"24px\">\n",
              "    <g>\n",
              "        <path d=\"M19 3H5c-1.1 0-2 .9-2 2v14c0 1.1.9 2 2 2h14c1.1 0 2-.9 2-2V5c0-1.1-.9-2-2-2zM9 17H7v-7h2v7zm4 0h-2V7h2v10zm4 0h-2v-4h2v4z\"/>\n",
              "    </g>\n",
              "</svg>\n",
              "      </button>\n",
              "\n",
              "<style>\n",
              "  .colab-df-quickchart {\n",
              "      --bg-color: #E8F0FE;\n",
              "      --fill-color: #1967D2;\n",
              "      --hover-bg-color: #E2EBFA;\n",
              "      --hover-fill-color: #174EA6;\n",
              "      --disabled-fill-color: #AAA;\n",
              "      --disabled-bg-color: #DDD;\n",
              "  }\n",
              "\n",
              "  [theme=dark] .colab-df-quickchart {\n",
              "      --bg-color: #3B4455;\n",
              "      --fill-color: #D2E3FC;\n",
              "      --hover-bg-color: #434B5C;\n",
              "      --hover-fill-color: #FFFFFF;\n",
              "      --disabled-bg-color: #3B4455;\n",
              "      --disabled-fill-color: #666;\n",
              "  }\n",
              "\n",
              "  .colab-df-quickchart {\n",
              "    background-color: var(--bg-color);\n",
              "    border: none;\n",
              "    border-radius: 50%;\n",
              "    cursor: pointer;\n",
              "    display: none;\n",
              "    fill: var(--fill-color);\n",
              "    height: 32px;\n",
              "    padding: 0;\n",
              "    width: 32px;\n",
              "  }\n",
              "\n",
              "  .colab-df-quickchart:hover {\n",
              "    background-color: var(--hover-bg-color);\n",
              "    box-shadow: 0 1px 2px rgba(60, 64, 67, 0.3), 0 1px 3px 1px rgba(60, 64, 67, 0.15);\n",
              "    fill: var(--button-hover-fill-color);\n",
              "  }\n",
              "\n",
              "  .colab-df-quickchart-complete:disabled,\n",
              "  .colab-df-quickchart-complete:disabled:hover {\n",
              "    background-color: var(--disabled-bg-color);\n",
              "    fill: var(--disabled-fill-color);\n",
              "    box-shadow: none;\n",
              "  }\n",
              "\n",
              "  .colab-df-spinner {\n",
              "    border: 2px solid var(--fill-color);\n",
              "    border-color: transparent;\n",
              "    border-bottom-color: var(--fill-color);\n",
              "    animation:\n",
              "      spin 1s steps(1) infinite;\n",
              "  }\n",
              "\n",
              "  @keyframes spin {\n",
              "    0% {\n",
              "      border-color: transparent;\n",
              "      border-bottom-color: var(--fill-color);\n",
              "      border-left-color: var(--fill-color);\n",
              "    }\n",
              "    20% {\n",
              "      border-color: transparent;\n",
              "      border-left-color: var(--fill-color);\n",
              "      border-top-color: var(--fill-color);\n",
              "    }\n",
              "    30% {\n",
              "      border-color: transparent;\n",
              "      border-left-color: var(--fill-color);\n",
              "      border-top-color: var(--fill-color);\n",
              "      border-right-color: var(--fill-color);\n",
              "    }\n",
              "    40% {\n",
              "      border-color: transparent;\n",
              "      border-right-color: var(--fill-color);\n",
              "      border-top-color: var(--fill-color);\n",
              "    }\n",
              "    60% {\n",
              "      border-color: transparent;\n",
              "      border-right-color: var(--fill-color);\n",
              "    }\n",
              "    80% {\n",
              "      border-color: transparent;\n",
              "      border-right-color: var(--fill-color);\n",
              "      border-bottom-color: var(--fill-color);\n",
              "    }\n",
              "    90% {\n",
              "      border-color: transparent;\n",
              "      border-bottom-color: var(--fill-color);\n",
              "    }\n",
              "  }\n",
              "</style>\n",
              "\n",
              "      <script>\n",
              "        async function quickchart(key) {\n",
              "          const quickchartButtonEl =\n",
              "            document.querySelector('#' + key + ' button');\n",
              "          quickchartButtonEl.disabled = true;  // To prevent multiple clicks.\n",
              "          quickchartButtonEl.classList.add('colab-df-spinner');\n",
              "          try {\n",
              "            const charts = await google.colab.kernel.invokeFunction(\n",
              "                'suggestCharts', [key], {});\n",
              "          } catch (error) {\n",
              "            console.error('Error during call to suggestCharts:', error);\n",
              "          }\n",
              "          quickchartButtonEl.classList.remove('colab-df-spinner');\n",
              "          quickchartButtonEl.classList.add('colab-df-quickchart-complete');\n",
              "        }\n",
              "        (() => {\n",
              "          let quickchartButtonEl =\n",
              "            document.querySelector('#df-77a0b2c7-e7bf-46a6-968b-d22b5809f3a8 button');\n",
              "          quickchartButtonEl.style.display =\n",
              "            google.colab.kernel.accessAllowed ? 'block' : 'none';\n",
              "        })();\n",
              "      </script>\n",
              "    </div>\n",
              "\n",
              "  <div id=\"id_b9e8ba8a-4010-4ba4-9135-a34847c114a1\">\n",
              "    <style>\n",
              "      .colab-df-generate {\n",
              "        background-color: #E8F0FE;\n",
              "        border: none;\n",
              "        border-radius: 50%;\n",
              "        cursor: pointer;\n",
              "        display: none;\n",
              "        fill: #1967D2;\n",
              "        height: 32px;\n",
              "        padding: 0 0 0 0;\n",
              "        width: 32px;\n",
              "      }\n",
              "\n",
              "      .colab-df-generate:hover {\n",
              "        background-color: #E2EBFA;\n",
              "        box-shadow: 0px 1px 2px rgba(60, 64, 67, 0.3), 0px 1px 3px 1px rgba(60, 64, 67, 0.15);\n",
              "        fill: #174EA6;\n",
              "      }\n",
              "\n",
              "      [theme=dark] .colab-df-generate {\n",
              "        background-color: #3B4455;\n",
              "        fill: #D2E3FC;\n",
              "      }\n",
              "\n",
              "      [theme=dark] .colab-df-generate:hover {\n",
              "        background-color: #434B5C;\n",
              "        box-shadow: 0px 1px 3px 1px rgba(0, 0, 0, 0.15);\n",
              "        filter: drop-shadow(0px 1px 2px rgba(0, 0, 0, 0.3));\n",
              "        fill: #FFFFFF;\n",
              "      }\n",
              "    </style>\n",
              "    <button class=\"colab-df-generate\" onclick=\"generateWithVariable('summary')\"\n",
              "            title=\"Generate code using this dataframe.\"\n",
              "            style=\"display:none;\">\n",
              "\n",
              "  <svg xmlns=\"http://www.w3.org/2000/svg\" height=\"24px\"viewBox=\"0 0 24 24\"\n",
              "       width=\"24px\">\n",
              "    <path d=\"M7,19H8.4L18.45,9,17,7.55,7,17.6ZM5,21V16.75L18.45,3.32a2,2,0,0,1,2.83,0l1.4,1.43a1.91,1.91,0,0,1,.58,1.4,1.91,1.91,0,0,1-.58,1.4L9.25,21ZM18.45,9,17,7.55Zm-12,3A5.31,5.31,0,0,0,4.9,8.1,5.31,5.31,0,0,0,1,6.5,5.31,5.31,0,0,0,4.9,4.9,5.31,5.31,0,0,0,6.5,1,5.31,5.31,0,0,0,8.1,4.9,5.31,5.31,0,0,0,12,6.5,5.46,5.46,0,0,0,6.5,12Z\"/>\n",
              "  </svg>\n",
              "    </button>\n",
              "    <script>\n",
              "      (() => {\n",
              "      const buttonEl =\n",
              "        document.querySelector('#id_b9e8ba8a-4010-4ba4-9135-a34847c114a1 button.colab-df-generate');\n",
              "      buttonEl.style.display =\n",
              "        google.colab.kernel.accessAllowed ? 'block' : 'none';\n",
              "\n",
              "      buttonEl.onclick = () => {\n",
              "        google.colab.notebook.generateWithVariable('summary');\n",
              "      }\n",
              "      })();\n",
              "    </script>\n",
              "  </div>\n",
              "\n",
              "    </div>\n",
              "  </div>\n"
            ],
            "application/vnd.google.colaboratory.intrinsic+json": {
              "type": "dataframe",
              "variable_name": "summary",
              "summary": "{\n  \"name\": \"summary\",\n  \"rows\": 8,\n  \"fields\": [\n    {\n      \"column\": \"Values\",\n      \"properties\": {\n        \"dtype\": \"number\",\n        \"std\": 353.49148352563213,\n        \"min\": -3.3792570526457526,\n        \"max\": 1000.0,\n        \"num_unique_values\": 8,\n        \"samples\": [\n          0.0357591790403206,\n          0.031231315491138084,\n          1000.0\n        ],\n        \"semantic_type\": \"\",\n        \"description\": \"\"\n      }\n    }\n  ]\n}"
            }
          },
          "metadata": {},
          "execution_count": 31
        }
      ]
    },
    {
      "cell_type": "markdown",
      "source": [
        "###Q16: Plot a boxplot to understand the spread and identify outliers."
      ],
      "metadata": {
        "id": "-xEqOVCYKtix"
      }
    },
    {
      "cell_type": "code",
      "source": [
        "plt.boxplot(sim_data)\n",
        "plt.title('Boxplot')\n",
        "plt.show()"
      ],
      "metadata": {
        "colab": {
          "base_uri": "https://localhost:8080/",
          "height": 452
        },
        "id": "i2S2BWyRKtXK",
        "outputId": "d3f78f68-b961-40d1-8431-beab64f6f338"
      },
      "execution_count": 32,
      "outputs": [
        {
          "output_type": "display_data",
          "data": {
            "text/plain": [
              "<Figure size 640x480 with 1 Axes>"
            ],
            "image/png": "[encoded data removed]"
          },
          "metadata": {}
        }
      ]
    },
    {
      "cell_type": "markdown",
      "source": [
        "###Q17: Calculate the interquartile range (IQR) of a dataset."
      ],
      "metadata": {
        "id": "H59-1RhsKsrR"
      }
    },
    {
      "cell_type": "code",
      "source": [
        "Q1 = np.percentile(sim_data, 25)\n",
        "Q3 = np.percentile(sim_data, 75)\n",
        "IQR = Q3 - Q1\n",
        "\n",
        "IQR"
      ],
      "metadata": {
        "colab": {
          "base_uri": "https://localhost:8080/"
        },
        "id": "GGp-ZPVcMwY-",
        "outputId": "ce2c570a-e256-4945-a512-930f372a024c"
      },
      "execution_count": 33,
      "outputs": [
        {
          "output_type": "execute_result",
          "data": {
            "text/plain": [
              "np.float64(1.35819711802645)"
            ]
          },
          "metadata": {},
          "execution_count": 33
        }
      ]
    },
    {
      "cell_type": "markdown",
      "source": [
        "###Q18: Implement Z-score normalization and explain its significance."
      ],
      "metadata": {
        "id": "x2xka-LcI23g"
      }
    },
    {
      "cell_type": "code",
      "source": [
        "z_scores = (sim_data - np.mean(sim_data)) / np.std(sim_data)\n",
        "\n",
        "# Z-score normalization transforms data into a distribution with a mean of 0 and standard deviation of 1.\n",
        "z_scores"
      ],
      "metadata": {
        "colab": {
          "base_uri": "https://localhost:8080/"
        },
        "id": "QOLbHEhYM15E",
        "outputId": "71748384-ffaf-4c00-e46b-3e0436d7f149"
      },
      "execution_count": 34,
      "outputs": [
        {
          "output_type": "execute_result",
          "data": {
            "text/plain": [
              "array([-1.25954646e-01, -1.42631432e+00,  4.07300871e-01, -1.62530740e+00,\n",
              "       -1.08995087e+00, -3.08057365e-01, -4.99094851e-01,  9.13816791e-01,\n",
              "        1.21475330e+00, -2.08680565e+00, -3.56062055e-01,  1.29436046e+00,\n",
              "       -4.79236099e-01,  1.08786202e+00, -2.08042004e-01, -1.23344081e+00,\n",
              "        6.13680614e-02, -4.74208983e-01,  7.54880560e-01,  3.27918537e-01,\n",
              "        9.71957415e-01, -7.57363331e-02,  1.55828773e+00,  1.88340176e+00,\n",
              "       -5.23719958e-01, -5.32042428e-01, -6.67577793e-01,  1.70942261e-01,\n",
              "        1.17351186e-01, -8.59180908e-01,  2.29178211e-01,  6.66657535e-01,\n",
              "        9.66046362e-01, -1.21018635e+00, -1.29038462e+00,  8.16327218e-01,\n",
              "        5.85732414e-01, -7.23076808e-01,  5.27916354e-02,  3.51088772e-01,\n",
              "       -1.46297278e-01, -9.94153566e-01, -9.69551700e-01,  1.31658205e+00,\n",
              "        1.71993437e+00,  8.80643140e-01, -2.02866712e+00,  1.33426630e+00,\n",
              "        1.43363737e+00, -1.05952967e+00,  4.71864418e-01, -4.47223623e-01,\n",
              "       -7.42603073e-01, -9.59897818e-01,  1.52289562e-01, -1.02260786e+00,\n",
              "        1.20916763e-02,  1.84545687e+00,  2.71191228e-01, -2.40168060e-02,\n",
              "        1.45848578e-01,  1.12287618e-01, -5.06941032e-01,  1.47548135e+00,\n",
              "        3.65491050e-01,  3.15947415e-01,  2.63681164e-01,  1.03689966e+00,\n",
              "       -3.36851862e-01,  1.02075783e+00,  1.73359023e+00,  2.18052882e+00,\n",
              "       -1.84911109e-01, -2.07429997e-01, -2.24605104e-01, -6.72595283e-01,\n",
              "        2.17740523e-02,  2.63356303e-02,  4.01644418e-01, -1.34263612e+00,\n",
              "        1.51003951e+00, -7.18219975e-01, -2.38264051e-01,  1.40139223e+00,\n",
              "        8.55396612e-01,  1.51673936e+00,  2.85143510e-01, -1.54289892e+00,\n",
              "        8.15934667e-01,  9.39655876e-02,  1.07997360e+00,  5.73423908e-02,\n",
              "        4.90874017e-01,  1.40639735e+00, -3.48824579e-01, -6.54246504e-01,\n",
              "        4.25687248e-01, -5.21573376e-01, -5.29804106e-01,  1.12446746e+00,\n",
              "       -9.58904592e-01,  8.10914447e-01,  2.63052240e-01,  1.55199643e+00,\n",
              "       -2.73802311e-01,  1.13684405e+00,  2.12867274e+00, -5.44786434e-01,\n",
              "       -4.02819515e-01, -1.05754157e+00,  9.88095780e-01, -1.41189802e+00,\n",
              "        5.32855731e-01, -3.29509316e-01,  5.24555419e-01,  1.44112632e+00,\n",
              "        7.16814467e-01,  1.13787138e+00,  1.47555706e+00,  7.92274818e-01,\n",
              "        6.93822885e-01,  6.42734459e-01, -1.37248081e+00, -1.29028051e+00,\n",
              "        7.77322446e-01, -5.19450704e-01, -8.40466367e-01,  7.47844846e-01,\n",
              "       -4.99763318e-01, -6.55251157e-01, -1.84817188e+00,  2.43718563e-01,\n",
              "        1.49669912e+00,  1.41853260e-01, -8.63747210e-01, -1.48311828e+00,\n",
              "       -2.87883467e-01,  1.01165012e-01,  5.61943372e-01,  7.96220434e-01,\n",
              "        4.59803344e-01,  1.34339539e+00, -3.36701733e-01, -7.53946778e-01,\n",
              "        1.46750694e+00, -1.04735542e+00,  1.13098967e+00, -1.57918108e-02,\n",
              "       -8.43768452e-01,  4.16837811e-01,  2.33360713e+00,  1.23192959e+00,\n",
              "        2.78288069e-01, -1.63542210e+00,  1.84095154e+00,  5.69412409e-01,\n",
              "       -2.42906620e-01,  2.51999455e-02,  1.04867490e+00,  6.98353883e-01,\n",
              "        7.10106839e-01,  4.63533325e-02,  6.28009635e-01, -1.20052928e+00,\n",
              "        5.95536840e-01, -7.60428349e-01,  1.76156880e+00,  4.90054319e-01,\n",
              "       -8.83121635e-01,  4.45450078e-01, -6.55378086e-01, -1.14838745e+00,\n",
              "        3.55987523e-01, -3.60892972e-01, -3.04325562e-01, -9.17649658e-01,\n",
              "        5.87307647e-02, -6.05220185e-01,  2.55038551e-01, -2.62468971e-01,\n",
              "        3.50343913e-01, -6.67455748e-01,  5.82695196e-01, -3.80426505e-01,\n",
              "       -1.33484468e+00, -3.31856362e-01, -2.76311635e+00, -1.31691918e+00,\n",
              "       -1.37276164e+00,  1.89870163e-01, -1.18408855e+00,  7.38559781e-01,\n",
              "        3.74820406e-01, -1.18146988e+00, -1.36622657e+00,  1.78804402e+00,\n",
              "       -8.72994333e-01, -4.02897942e-01,  1.16653863e+00, -4.62998461e-01,\n",
              "        1.50132740e-01,  6.64727021e-01, -1.50247696e-01, -2.77154048e-01,\n",
              "       -1.08818092e+00, -1.28059626e+00,  4.15717211e-01,  2.49091505e-01,\n",
              "       -9.55382229e-01, -1.28356624e+00,  2.55678351e+00,  2.53458646e-01,\n",
              "        3.02915355e-02, -1.58841899e-01, -1.19519706e-01, -1.31228183e+00,\n",
              "       -2.87820922e-01, -1.08742708e+00,  1.44993437e-01, -1.44872841e+00,\n",
              "       -2.95103788e-01, -1.93348712e-01, -2.02436702e+00,  4.07300501e-01,\n",
              "        1.14369450e-01, -2.51126035e-01,  6.56419858e-01, -9.62029504e-01,\n",
              "        3.68940772e-01,  3.54871614e-01,  7.12295407e-01,  4.84634517e-01,\n",
              "       -1.08998587e+00,  1.17974740e+00,  2.59294482e+00,  3.55785927e-01,\n",
              "        1.64720244e+00, -3.01550498e-01, -4.75911893e-01,  1.01154185e+00,\n",
              "       -4.25547725e-02,  9.93190527e-01,  8.12387387e-01,  8.74153783e-01,\n",
              "       -2.06073525e-01,  4.24299253e-01,  2.07015213e-01,  6.94363050e-02,\n",
              "       -1.54672088e+00, -2.57498892e-01,  1.24835120e+00,  8.45761665e-01,\n",
              "       -4.47034783e-01, -8.04410210e-01, -2.61504113e-01,  1.39768140e-01,\n",
              "       -5.91489477e-01,  1.71146388e+00,  4.76309704e-01, -9.12782446e-01,\n",
              "        2.41464931e-01,  4.86803601e-01, -1.45686476e+00, -5.78903133e-01,\n",
              "       -2.82626339e+00, -9.73846241e-01,  9.91408240e-02,  1.89944548e+00,\n",
              "        1.01963943e+00,  3.87227303e-02,  7.32490912e-01, -2.66534339e-01,\n",
              "       -9.25415898e-01, -4.50052232e-01, -1.26624144e+00,  2.97240463e-01,\n",
              "       -2.27498687e-01, -2.10692910e+00,  1.06321919e+00,  3.88223749e-01,\n",
              "       -3.36597267e-01,  1.54453385e-01,  8.43741798e-01, -9.78193363e-01,\n",
              "        5.88283090e-01,  1.04329923e+00, -1.62689479e-01,  1.50944660e+00,\n",
              "        8.57892673e-01, -1.79383373e+00,  6.69884034e-01, -6.49571214e-01,\n",
              "        1.06052261e+00,  4.51917168e-01, -3.86648696e-01, -1.90607269e+00,\n",
              "        5.90416068e-01, -6.57040583e-01, -2.00722618e+00, -1.93619037e-01,\n",
              "       -2.64206868e-02, -2.73085841e-02, -5.37069301e-01,  1.94752436e-01,\n",
              "        1.37805585e-01,  5.46416691e-01, -6.42036371e-01, -1.14741407e+00,\n",
              "        1.34760948e+00, -1.25131110e+00, -1.08891041e+00,  5.63628981e-01,\n",
              "       -6.48275072e-01, -3.02783060e-01, -3.51941476e-01, -4.53883951e-01,\n",
              "       -5.23804487e-01, -1.27593469e+00, -2.51080857e-01, -8.65481197e-01,\n",
              "        5.90044107e-01, -9.41581212e-02, -1.63789118e+00,  1.56924024e+00,\n",
              "       -1.23310538e+00,  5.52632641e-01,  6.54980709e-01,  8.70166663e-01,\n",
              "       -8.76866578e-01, -1.84437050e+00,  2.44748713e-01, -8.52053235e-02,\n",
              "       -5.58494287e-01,  1.20138867e+00, -2.97273361e-01, -2.41655938e+00,\n",
              "       -7.98880462e-04, -1.76914675e+00,  9.76913701e-01,  9.87170802e-01,\n",
              "       -1.47648932e+00, -6.23959547e-01,  6.20175874e-01, -1.32743625e+00,\n",
              "        1.04919788e+00,  2.10116547e+00, -8.60291784e-01,  4.27462892e-01,\n",
              "        6.30636761e-01, -2.70791145e-01,  8.48827490e-01,  1.05703904e-01,\n",
              "       -1.76509893e-01,  6.10529758e-01, -1.24428933e-02, -1.01097113e+00,\n",
              "       -1.74205523e+00,  1.25893632e+00,  1.76275069e+00,  6.04349689e-01,\n",
              "       -8.88408702e-01, -2.22628027e-01,  1.49467316e+00, -1.13807920e+00,\n",
              "       -4.12836747e-01, -1.31546224e+00,  4.22142320e-01, -6.67676053e-02,\n",
              "       -1.33556322e+00,  3.13614277e-01,  2.74498222e-01,  2.38458925e-01,\n",
              "       -2.36159175e+00,  1.23364021e+00, -1.52118205e+00, -5.92420042e-01,\n",
              "       -4.58013774e-01,  1.98143708e+00, -3.82866971e-01, -1.21984438e+00,\n",
              "       -1.15773699e+00,  9.05311345e-01, -1.47603301e+00, -1.45993898e+00,\n",
              "        4.71297880e-01, -6.06981795e-01,  6.46546741e-01, -1.26959710e+00,\n",
              "        1.09984279e+00, -1.07657448e+00,  1.49629329e-01,  1.17404790e+00,\n",
              "        6.64888985e-01, -1.18507122e+00,  6.00558338e-01, -7.78746585e-01,\n",
              "        2.65030356e-01,  7.92539385e-02,  4.72866102e-01, -4.56648135e-01,\n",
              "        1.20932919e+00, -1.60651920e+00,  1.17527638e+00, -2.51113504e-01,\n",
              "        5.42803669e-01, -7.43396941e-02, -1.02293396e+00,  1.04185431e+00,\n",
              "       -4.92236353e-01,  1.19310475e+00, -9.80009817e-01,  1.42603764e+00,\n",
              "        9.36075926e-01,  1.93291709e+00, -9.52220714e-01,  2.21675180e-01,\n",
              "       -1.87592102e+00, -9.61373446e-01, -7.76328157e-01, -6.40178048e-01,\n",
              "       -4.04447372e-01, -3.29511558e-01,  5.79928545e-01,  2.09779701e+00,\n",
              "       -8.24149414e-01, -6.52222164e-01,  5.25132338e-01, -8.89149758e-01,\n",
              "        1.09693973e+00,  5.60072488e-02, -4.68533252e-01, -4.02204221e-01,\n",
              "       -7.30634776e-01, -7.57040183e-01,  1.09528548e+00, -9.96334535e-01,\n",
              "       -6.31791976e-01,  9.96303607e-01, -1.00703005e+00, -2.72524783e-01,\n",
              "       -2.30002967e-01,  1.48046993e-01, -1.27493063e-02, -5.81968845e-01,\n",
              "       -6.27448059e-01,  3.70694917e-01,  1.37523665e+00, -9.64309230e-01,\n",
              "       -1.15457615e+00, -1.09374881e+00, -1.23451515e+00, -5.69770864e-01,\n",
              "        1.42758254e+00,  5.89838381e-01, -1.58218474e+00,  1.64150164e+00,\n",
              "       -1.48968164e+00,  6.47036587e-01, -1.07046379e+00, -2.42910839e-01,\n",
              "        8.25023174e-01, -1.08477617e+00, -6.95240053e-01, -4.53168274e-01,\n",
              "        2.21475045e+00, -1.31760181e+00, -5.58410404e-01, -1.01484094e+00,\n",
              "       -1.07281496e+00,  1.80470770e-01,  6.84924845e-01, -4.72924748e-01,\n",
              "        2.53716272e-01, -3.18417121e-03, -8.33273725e-01, -2.40867206e+00,\n",
              "        1.44450561e+00,  1.83187107e-01,  6.10891678e-01,  3.05724494e-01,\n",
              "       -9.70779823e-01,  1.12583598e+00, -2.55202359e+00, -1.22539822e+00,\n",
              "        1.42347668e+00, -2.27380503e-01, -6.13987444e-01,  7.84463480e-01,\n",
              "       -5.19751127e-01,  1.12525079e+00,  3.11314005e-01, -6.73320833e-01,\n",
              "       -5.99883262e-01,  6.80312511e-01,  9.16402885e-01,  1.55490450e+00,\n",
              "       -1.20328709e+00,  1.07905837e+00,  1.74558836e+00,  2.05866077e-01,\n",
              "        9.56393982e-01, -1.76877962e+00,  9.66012289e-02, -3.56875548e-01,\n",
              "       -1.63475970e+00,  1.23949403e+00, -1.94012714e-01, -9.76865771e-01,\n",
              "       -5.30537034e-01,  9.13986492e-02, -9.88706018e-01,  1.05060355e+00,\n",
              "        1.28111968e+00, -9.20846540e-01,  1.50484934e-01,  9.90031889e-01,\n",
              "        5.04936301e-01, -2.29167784e-01,  6.84257972e-01, -2.02580831e-01,\n",
              "       -8.14396885e-01, -2.99755968e-01,  9.92248787e-01, -4.17590970e-01,\n",
              "        1.57197456e+00, -6.63548749e-01, -1.51900912e+00,  1.78952906e+00,\n",
              "       -5.52354898e-01, -7.75828954e-01,  5.80573802e-01,  6.88217805e-01,\n",
              "       -1.36909092e-02,  1.47876962e+00,  2.81030844e-01,  3.57012826e-01,\n",
              "       -9.26016587e-01,  4.07957954e-01,  6.27086675e-01, -1.34260333e+00,\n",
              "        7.90474189e-01, -4.70567781e-01, -1.11514798e-01, -2.73046347e+00,\n",
              "       -3.25446894e-01,  1.09709077e+00,  1.09980289e-02, -9.16522076e-01,\n",
              "       -4.49020780e-02, -1.62120478e-02, -1.73341298e+00, -9.21669516e-01,\n",
              "        1.63938554e+00,  8.42602136e-01,  3.40434577e-01,  2.29957373e+00,\n",
              "        1.99193456e+00,  1.53668666e+00, -8.95505281e-01, -2.35572844e+00,\n",
              "       -1.58422837e+00,  3.51066695e-01,  2.71124030e-01,  3.23356820e-01,\n",
              "       -8.55002784e-01, -1.04874198e+00, -3.91970444e-01,  5.68161101e-01,\n",
              "        3.32073514e-01,  2.26434322e+00,  2.61367118e-01,  1.13841987e+00,\n",
              "       -2.12777060e+00, -1.87491118e+00,  1.42345213e+00, -5.11979303e-01,\n",
              "        5.95122581e-01, -9.66510936e-01, -5.96286715e-03, -3.03453474e-01,\n",
              "        1.66266530e-01, -3.85292985e-01, -1.33621796e+00, -7.21040419e-01,\n",
              "        8.25579122e-01, -1.04919691e+00,  1.10166715e+00, -1.44948618e+00,\n",
              "        2.63519044e-01, -7.15935151e-01,  1.87592023e+00, -5.91018905e-01,\n",
              "        1.92033453e+00, -1.94858012e-01,  1.17876131e+00, -6.32200368e-01,\n",
              "        7.09774101e-01, -2.77882921e-01, -1.29816047e+00,  5.60006999e-01,\n",
              "       -1.11908892e+00, -1.06604441e+00,  4.30818890e-01,  3.15106734e-01,\n",
              "       -6.71580907e-01, -3.67187273e-01, -2.09692796e+00,  1.67367481e+00,\n",
              "        4.40365477e-01, -2.89563398e-01, -6.45725560e-01,  5.04226106e-01,\n",
              "        1.18513901e-01,  3.07426039e-01, -4.43998094e-02,  5.60284820e-01,\n",
              "        1.63249160e+00, -5.74484689e-01, -1.35454752e+00, -5.52646361e-02,\n",
              "       -7.89186620e-02, -1.73371413e+00, -2.35798017e-01,  3.73873949e-01,\n",
              "       -1.23583501e+00,  8.87888189e-01, -3.99256957e-01,  6.84684447e-01,\n",
              "        9.73062646e-01, -9.77371889e-01, -2.55303238e-01,  7.37501035e-01,\n",
              "        1.75707943e-01, -1.49670435e-01, -5.14057758e-01, -1.20678950e+00,\n",
              "       -4.51843423e-01,  8.12529409e-01,  1.97151860e-01,  2.48334603e+00,\n",
              "       -1.33223903e-01,  1.42003672e+00, -1.24798243e+00,  7.16299511e-01,\n",
              "        9.12146078e-01,  4.97157994e-01,  9.02787779e-01,  1.30968192e+00,\n",
              "        9.01987846e-01, -6.08074558e-02,  3.58904325e+00,  3.90079447e-01,\n",
              "       -1.17871794e-01, -6.61337320e-01, -6.65316036e-01, -1.27011001e+00,\n",
              "        3.20375987e-01, -9.89255199e-01,  5.55790663e-01, -4.92875700e-01,\n",
              "        6.36873688e-01, -1.96172284e+00,  4.46375732e-02, -4.86302538e-01,\n",
              "        5.25277500e-01,  9.11817592e-01,  7.96231334e-01,  1.39196681e+00,\n",
              "       -7.84929875e-01,  9.24350233e-01,  1.12428102e+00, -1.11136856e-01,\n",
              "       -4.87606898e-01,  1.63521100e+00,  1.57697447e+00,  1.90899215e-01,\n",
              "       -5.07902294e-01,  2.15853756e-01,  4.68607076e-01,  1.89400344e+00,\n",
              "        3.71654112e-01, -4.50445555e-02, -3.31858075e-02,  7.59845921e-01,\n",
              "        1.00711438e+00, -1.03267767e+00, -8.90899412e-01, -1.73166593e-01,\n",
              "       -3.69155192e-01,  1.64150254e-01, -3.46541415e-01, -8.52388737e-01,\n",
              "       -1.66770060e-01,  4.51605702e-01, -4.69335313e-01,  5.58336262e-01,\n",
              "       -6.57290205e-01, -4.62924240e-01,  1.74784518e-01, -2.28476893e-02,\n",
              "       -2.04154026e+00, -5.52917345e-01, -8.70451109e-01,  1.73735301e+00,\n",
              "        4.94387194e-01,  8.99812449e-01,  8.64375993e-01,  1.35497339e+00,\n",
              "        2.26615967e+00,  7.73693608e-01, -1.04349238e+00, -1.29252848e+00,\n",
              "        2.49761679e-01,  8.47965742e-02,  4.77355607e-01,  5.46839572e-01,\n",
              "        1.86019027e-01,  1.05676256e+00, -3.66512281e-01,  4.92791690e-01,\n",
              "        4.02231345e-01, -2.51111373e-01,  2.15291053e-01,  2.45411835e-01,\n",
              "        8.50854275e-01, -1.96398364e+00, -1.20977328e-01,  2.51592759e-01,\n",
              "       -8.89479633e-01,  1.33795782e+00, -1.31667737e+00,  7.18510078e-01,\n",
              "        1.91292372e-01,  3.00493341e-01, -1.61969161e+00, -7.36765866e-01,\n",
              "       -5.03518300e-01,  1.03988056e+00, -1.23483531e+00,  4.21628782e-01,\n",
              "       -7.49441689e-01, -3.67810634e-01,  1.44029262e+00, -1.14960619e+00,\n",
              "        3.96116535e-01,  3.95283336e-01,  3.92328438e-01,  7.79473698e-01,\n",
              "        3.49787543e-03, -1.83278996e+00, -7.58550802e-01,  9.03367688e-01,\n",
              "       -1.08317073e-01,  1.01717555e+00,  6.37435682e-01,  2.18825094e+00,\n",
              "        7.39431989e-01,  3.37054730e-01,  9.01505730e-01, -2.97826733e+00,\n",
              "        7.19473950e-01,  1.92223861e+00,  5.88201832e-01,  2.56584967e+00,\n",
              "       -1.88402347e-01, -1.01789121e+00, -8.12657754e-01, -9.05981376e-01,\n",
              "        6.53253406e-01,  4.37822080e-01,  1.17355454e+00, -9.18999056e-01,\n",
              "        1.39614324e+00,  2.36263664e-02, -5.43517796e-01, -6.18886941e-02,\n",
              "       -5.70194150e-01, -5.90634240e-01,  7.77756895e-01, -8.24413063e-01,\n",
              "        4.93906138e-01, -1.91369286e-01,  1.25853056e-01,  5.60419979e-01,\n",
              "       -1.28893415e+00, -5.19219340e-01,  2.83223868e-01, -3.48095041e-01,\n",
              "       -9.43743229e-01, -7.63676356e-01, -2.01344783e+00, -7.16946030e-01,\n",
              "       -5.93522960e-01, -2.43240891e-01,  7.57839474e-01, -1.06587752e+00,\n",
              "       -1.14230387e+00,  4.06993068e-01, -6.27015221e-02,  7.75639656e-01,\n",
              "        2.04472330e+00,  1.02424930e+00,  1.31436857e+00, -1.98164204e+00,\n",
              "        3.11731916e-01, -6.70434709e-01, -9.63207136e-01, -2.24529984e-01,\n",
              "        2.22346453e+00, -1.31641762e-01,  3.40532759e-01,  1.45293195e+00,\n",
              "        1.23151166e+00,  2.91972145e+00,  1.60853602e+00, -1.13753587e+00,\n",
              "        1.05668718e-01, -1.41113445e+00, -8.34869304e-01, -1.92487598e+00,\n",
              "        9.19517576e-01,  6.67499134e-02,  9.10491429e-01, -1.72774134e+00,\n",
              "       -6.16604962e-01,  4.11169249e-01, -9.62850452e-01,  4.16796744e-01,\n",
              "        1.09052657e+00,  1.37819830e+00,  4.31621975e-01, -4.95353917e-01,\n",
              "        8.48220170e-01,  8.66984830e-01,  2.91721093e+00, -1.51795461e-01,\n",
              "        8.35659397e-01,  4.37333005e-01,  7.45557706e-01, -3.44945073e+00,\n",
              "        4.10430483e-01, -3.01435978e-01, -1.30081801e+00, -3.71181273e-01,\n",
              "        3.31672426e-01,  1.82887833e+00, -4.99857686e-01, -1.45247995e+00,\n",
              "       -5.72707598e-01,  9.32477090e-01, -1.02859996e-01,  1.20153438e+00,\n",
              "        1.82662551e-01, -1.98507139e+00,  4.22679635e-01, -2.12442742e-01,\n",
              "       -6.61408263e-02, -4.19808000e-01, -4.85361828e-01, -1.15304364e+00,\n",
              "        1.09656459e+00, -1.44399415e+00, -5.02765936e-01,  1.00645242e+00,\n",
              "        1.30948973e-02, -3.77232559e-01, -3.65177451e-02, -8.42761353e-01,\n",
              "       -4.41352216e-01, -5.30110222e-02, -5.69031026e-01,  1.92034657e-02,\n",
              "       -1.19758353e+00,  1.03934614e+00, -2.93121650e-01,  1.23168254e+00,\n",
              "       -7.33986010e-01, -9.29282249e-01, -9.56575028e-01, -2.13719049e-01,\n",
              "        5.10828625e-01, -8.67313830e-01, -9.41416489e-01, -7.56490443e-01,\n",
              "       -6.03684624e-01, -2.56597092e-01,  5.31426382e-01,  1.55267087e-01,\n",
              "        1.37506087e+00,  1.50733978e+00,  8.08532932e-01, -1.37711605e-01,\n",
              "        1.03918477e+00, -6.03774812e-01, -7.34483904e-01,  9.97891122e-01,\n",
              "       -9.39482367e-01,  3.97147596e-01, -1.21869323e+00, -7.65804922e-01,\n",
              "       -5.16521853e-01, -1.12825499e-01,  8.83346203e-01,  2.84585833e-01,\n",
              "        3.65157259e-01,  1.53993220e+00,  3.59998922e-02,  4.60620389e-01,\n",
              "       -5.94030127e-01,  1.38368424e+00, -3.00578124e-01,  3.59764521e-01,\n",
              "        2.56532505e-01,  1.57170235e+00, -5.09591448e-01, -3.76891739e-01,\n",
              "        2.68928646e-01,  4.17183882e-02, -6.37270591e-01,  3.60407215e-01,\n",
              "        1.54649122e+00, -9.87342424e-01,  6.57830104e-01, -3.57379307e-01,\n",
              "       -5.62418610e-01,  1.30739091e+00, -1.07136026e+00, -7.90232843e-01,\n",
              "       -8.43556988e-01, -1.19371593e+00, -2.59496580e+00, -5.64827405e-01,\n",
              "        1.06641004e+00,  5.49091753e-01,  3.28272340e-01, -9.13658686e-01,\n",
              "       -5.22487437e-01, -9.04408574e-01,  1.34935524e-01,  1.27967096e+00,\n",
              "       -1.06474192e+00,  1.20252559e+00, -2.70097949e-01,  3.06518680e-01,\n",
              "        1.56216893e+00, -9.03297965e-01, -1.44818319e+00,  1.01836974e-01,\n",
              "        9.28097568e-01,  1.08860970e+00, -7.44743846e-01,  1.82803062e+00,\n",
              "        1.94816200e+00, -8.87259295e-01, -9.87267866e-02,  2.87438593e-01,\n",
              "        9.28834754e-03,  2.28832221e+00, -1.75650818e-01,  4.84642609e-01,\n",
              "        6.22039273e-01,  2.55540598e-01,  4.87212856e-01, -7.02562221e-02,\n",
              "        2.05947756e+00, -1.83698783e+00, -1.58066751e-01, -1.46187857e+00,\n",
              "       -6.76610207e-01,  1.51723041e-01, -5.84633766e-01, -5.21578058e-01,\n",
              "       -3.38265238e-02,  1.90057777e-01,  1.29283623e+00,  1.00978830e+00,\n",
              "       -6.89044379e-01, -2.47743553e+00,  1.14422577e-01,  1.90609562e+00,\n",
              "       -1.39328990e+00,  1.35283856e+00,  4.19577175e-01, -1.09381011e+00,\n",
              "       -9.96225600e-01,  6.32888063e-01,  9.56016538e-02, -4.96754002e-01,\n",
              "        7.95243198e-01,  9.29643155e-01, -9.78786264e-02, -1.23654523e+00,\n",
              "       -9.88321461e-01,  2.49213346e-01,  1.54831517e-01,  6.05439457e-01,\n",
              "       -1.76587016e+00, -7.66435050e-02, -1.35311704e+00, -1.34238838e+00])"
            ]
          },
          "metadata": {},
          "execution_count": 34
        }
      ]
    },
    {
      "cell_type": "markdown",
      "source": [
        "###Q19: Compare two datasets using their standard deviations."
      ],
      "metadata": {
        "id": "zP-vSgM0M69G"
      }
    },
    {
      "cell_type": "code",
      "source": [
        "data1 = np.random.normal(0, 1, 1000)\n",
        "data2 = np.random.normal(0, 2, 1000)\n",
        "\n",
        "std_dev_data1 = np.std(data1)\n",
        "std_dev_data2 = np.std(data2)\n",
        "\n",
        "std_dev_data1, std_dev_data2"
      ],
      "metadata": {
        "colab": {
          "base_uri": "https://localhost:8080/"
        },
        "id": "tIna2Sn_M_mG",
        "outputId": "81148fc6-540b-431d-e00a-1d2a9b88d182"
      },
      "execution_count": 35,
      "outputs": [
        {
          "output_type": "execute_result",
          "data": {
            "text/plain": [
              "(np.float64(1.034016189345639), np.float64(2.0088649988225757))"
            ]
          },
          "metadata": {},
          "execution_count": 35
        }
      ]
    },
    {
      "cell_type": "markdown",
      "source": [
        "###Q20: Write a Python program to visualize covariance using a heatmap."
      ],
      "metadata": {
        "id": "Lqv_afr_NFtf"
      }
    },
    {
      "cell_type": "code",
      "source": [
        "import seaborn as sns\n",
        "\n",
        "cov_matrix = np.cov(data1, data2)\n",
        "sns.heatmap(cov_matrix, annot=True)\n",
        "plt.title('Covariance Heatmap')\n",
        "plt.show()"
      ],
      "metadata": {
        "colab": {
          "base_uri": "https://localhost:8080/",
          "height": 452
        },
        "id": "YzFd_7RNNDg_",
        "outputId": "b272d896-46a1-4a1e-9c7e-815bd56cc5f3"
      },
      "execution_count": 36,
      "outputs": [
        {
          "output_type": "display_data",
          "data": {
            "text/plain": [
              "<Figure size 640x480 with 2 Axes>"
            ],
            "image/png": "[encoded data removed]"
          },
          "metadata": {}
        }
      ]
    },
    {
      "cell_type": "markdown",
      "source": [
        "###Q21: Use seaborn to create a correlation matrix for a dataset."
      ],
      "metadata": {
        "id": "ch8ZiSEWNORI"
      }
    },
    {
      "cell_type": "code",
      "source": [
        "corr_matrix = np.corrcoef(data1, data2)\n",
        "sns.heatmap(corr_matrix, annot=True)\n",
        "plt.title('Correlation Matrix')\n",
        "plt.show()"
      ],
      "metadata": {
        "colab": {
          "base_uri": "https://localhost:8080/",
          "height": 452
        },
        "id": "d0M0GrqhNNzY",
        "outputId": "c4bf0602-67a2-4327-aa65-ac068f569eae"
      },
      "execution_count": 37,
      "outputs": [
        {
          "output_type": "display_data",
          "data": {
            "text/plain": [
              "<Figure size 640x480 with 2 Axes>"
            ],
            "image/png": "[encoded data removed]"
          },
          "metadata": {}
        }
      ]
    },
    {
      "cell_type": "markdown",
      "source": [
        "###Q22: Generate a dataset and implement both variance and standard deviation computations."
      ],
      "metadata": {
        "id": "MeaalmI1NUbI"
      }
    },
    {
      "cell_type": "code",
      "source": [
        "new_data = np.random.normal(0, 1, 1000)\n",
        "variance = np.var(new_data)\n",
        "std_dev = np.std(new_data)\n",
        "\n",
        "variance, std_dev"
      ],
      "metadata": {
        "colab": {
          "base_uri": "https://localhost:8080/"
        },
        "id": "ZaEyLE5dNWgL",
        "outputId": "d62cc395-7271-43d6-d166-b9d2eff23210"
      },
      "execution_count": 38,
      "outputs": [
        {
          "output_type": "execute_result",
          "data": {
            "text/plain": [
              "(np.float64(0.9931008942453932), np.float64(0.9965444768024121))"
            ]
          },
          "metadata": {},
          "execution_count": 38
        }
      ]
    },
    {
      "cell_type": "markdown",
      "source": [
        "###Q23: Visualize skewness and kurtosis using Python libraries."
      ],
      "metadata": {
        "id": "D_HkE_BENZtK"
      }
    },
    {
      "cell_type": "code",
      "source": [
        "fig, ax = plt.subplots(1, 2, figsize=(12, 6))\n",
        "sns.histplot(new_data, kde=True, ax=ax[0])\n",
        "ax[0].set_title('Histogram')\n",
        "ax[1].set_title('Boxplot')\n",
        "sns.boxplot(x=new_data, ax=ax[1])\n",
        "plt.show()"
      ],
      "metadata": {
        "colab": {
          "base_uri": "https://localhost:8080/",
          "height": 359
        },
        "id": "rfV6xYh6NdDz",
        "outputId": "051b9bae-bf6f-4b45-e173-e4ac25d9fa5b"
      },
      "execution_count": 39,
      "outputs": [
        {
          "output_type": "display_data",
          "data": {
            "text/plain": [
              "<Figure size 1200x600 with 2 Axes>"
            ],
            "image/png": "[encoded data removed]"
          },
          "metadata": {}
        }
      ]
    },
    {
      "cell_type": "markdown",
      "source": [
        "###Q24: Implement the Pearson and Spearman correlation coefficients"
      ],
      "metadata": {
        "id": "Iq10d9zFNinZ"
      }
    },
    {
      "cell_type": "code",
      "source": [
        "pearson_corr = stats.pearsonr(x, y)\n",
        "spearman_corr = stats.spearmanr(x, y)\n",
        "\n",
        "pearson_corr, spearman_corr"
      ],
      "metadata": {
        "colab": {
          "base_uri": "https://localhost:8080/"
        },
        "id": "gTP8Zbo1Ne4o",
        "outputId": "7f445f1b-84ca-4a47-e419-4838a660abba"
      },
      "execution_count": 40,
      "outputs": [
        {
          "output_type": "execute_result",
          "data": {
            "text/plain": [
              "(PearsonRResult(statistic=np.float64(0.9999999999999998), pvalue=np.float64(1.3415758552508146e-08)),\n",
              " SignificanceResult(statistic=np.float64(1.0), pvalue=np.float64(0.0)))"
            ]
          },
          "metadata": {},
          "execution_count": 40
        }
      ]
    }
  ]
}